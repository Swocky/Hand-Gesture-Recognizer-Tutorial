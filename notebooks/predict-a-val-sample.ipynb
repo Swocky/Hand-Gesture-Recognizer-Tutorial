{
 "cells": [
  {
   "cell_type": "markdown",
   "metadata": {},
   "source": [
    "## Loads pre-trained model and get prediction on validation samples"
   ]
  },
  {
   "cell_type": "markdown",
   "metadata": {},
   "source": [
    "### 1. Info\n",
    "Please provide path to the relevant config file"
   ]
  },
  {
   "cell_type": "code",
   "execution_count": 1,
   "metadata": {
    "collapsed": true
   },
   "outputs": [],
   "source": [
    "config_file_path = \"../configs/config.json\""
   ]
  },
  {
   "cell_type": "markdown",
   "metadata": {},
   "source": [
    "### 2. Importing required modules"
   ]
  },
  {
   "cell_type": "code",
   "execution_count": 40,
   "metadata": {
    "collapsed": true
   },
   "outputs": [],
   "source": [
    "import os\n",
    "import cv2\n",
    "import json\n",
    "import sys\n",
    "import importlib\n",
    "import torch\n",
    "import numpy as np\n",
    "import glob\n",
    "import matplotlib.pyplot as plt\n",
    "import time\n",
    "\n",
    "sys.path.insert(0, \"../\")\n",
    "%matplotlib inline"
   ]
  },
  {
   "cell_type": "code",
   "execution_count": 3,
   "metadata": {},
   "outputs": [],
   "source": [
    "from torchvision.transforms import *\n",
    "from data_parser import JpegDataset\n",
    "from data_loader import VideoFolder\n",
    "from model import ConvColumn\n",
    "from utils import remove_module_from_checkpoint_state_dict"
   ]
  },
  {
   "cell_type": "markdown",
   "metadata": {},
   "source": [
    "### 3. Loading configuration file, model definition and its path¶"
   ]
  },
  {
   "cell_type": "code",
   "execution_count": 4,
   "metadata": {},
   "outputs": [],
   "source": [
    "# load config file\n",
    "with open(config_file_path) as data_file:\n",
    "    config = json.load(data_file)"
   ]
  },
  {
   "cell_type": "code",
   "execution_count": 5,
   "metadata": {},
   "outputs": [
    {
     "name": "stdout",
     "output_type": "stream",
     "text": [
      "=> Checkpoint path --> ../trainings/jpeg_model/jester_conv_example/model_best.pth.tar\n"
     ]
    }
   ],
   "source": [
    "# checkpoint path to a trained model\n",
    "checkpoint_path = os.path.join(\"../\", config[\"output_dir\"], config[\"model_name\"], \"model_best.pth.tar\")\n",
    "print(\"=> Checkpoint path --> {}\".format(checkpoint_path))\n",
    "assert(os.path.isfile(checkpoint_path))"
   ]
  },
  {
   "cell_type": "markdown",
   "metadata": {},
   "source": [
    "### 3. Load model\n",
    "Note: without cuda() for ease"
   ]
  },
  {
   "cell_type": "code",
   "execution_count": 6,
   "metadata": {
    "collapsed": true
   },
   "outputs": [],
   "source": [
    "model = ConvColumn(config['num_classes'])\n",
    "model.eval();"
   ]
  },
  {
   "cell_type": "code",
   "execution_count": 7,
   "metadata": {},
   "outputs": [
    {
     "data": {
      "text/plain": [
       "ConvColumn(\n",
       "  (conv_layer1): Sequential(\n",
       "    (0): Conv3d(3, 64, kernel_size=(3, 3, 3), stride=(1, 1, 1), padding=(1, 1, 1))\n",
       "    (1): BatchNorm3d(64, eps=1e-05, momentum=0.1, affine=True, track_running_stats=True)\n",
       "    (2): ELU(alpha=1.0)\n",
       "    (3): MaxPool3d(kernel_size=(1, 2, 2), stride=(1, 2, 2), padding=0, dilation=1, ceil_mode=False)\n",
       "  )\n",
       "  (conv_layer2): Sequential(\n",
       "    (0): Conv3d(64, 128, kernel_size=(3, 3, 3), stride=(1, 1, 1), padding=(1, 1, 1))\n",
       "    (1): BatchNorm3d(128, eps=1e-05, momentum=0.1, affine=True, track_running_stats=True)\n",
       "    (2): ELU(alpha=1.0)\n",
       "    (3): MaxPool3d(kernel_size=(2, 2, 2), stride=(2, 2, 2), padding=0, dilation=1, ceil_mode=False)\n",
       "  )\n",
       "  (conv_layer3): Sequential(\n",
       "    (0): Conv3d(128, 256, kernel_size=(3, 3, 3), stride=(1, 1, 1), padding=(1, 1, 1))\n",
       "    (1): BatchNorm3d(256, eps=1e-05, momentum=0.1, affine=True, track_running_stats=True)\n",
       "    (2): ELU(alpha=1.0)\n",
       "    (3): MaxPool3d(kernel_size=(2, 2, 2), stride=(2, 2, 2), padding=0, dilation=1, ceil_mode=False)\n",
       "  )\n",
       "  (conv_layer4): Sequential(\n",
       "    (0): Conv3d(256, 256, kernel_size=(3, 3, 3), stride=(1, 1, 1), padding=(1, 1, 1))\n",
       "    (1): BatchNorm3d(256, eps=1e-05, momentum=0.1, affine=True, track_running_stats=True)\n",
       "    (2): ELU(alpha=1.0)\n",
       "    (3): MaxPool3d(kernel_size=(2, 2, 2), stride=(2, 2, 2), padding=0, dilation=1, ceil_mode=False)\n",
       "  )\n",
       "  (fc5): Linear(in_features=12800, out_features=512, bias=True)\n",
       "  (fc5_act): ELU(alpha=1.0)\n",
       "  (fc6): Linear(in_features=512, out_features=27, bias=True)\n",
       ")"
      ]
     },
     "execution_count": 7,
     "metadata": {},
     "output_type": "execute_result"
    }
   ],
   "source": [
    "model"
   ]
  },
  {
   "cell_type": "code",
   "execution_count": 8,
   "metadata": {},
   "outputs": [
    {
     "name": "stdout",
     "output_type": "stream",
     "text": [
      "=> loading checkpoint\n",
      "=> loaded checkpoint '../trainings/jpeg_model/jester_conv_example/model_best.pth.tar' (epoch 38)\n"
     ]
    }
   ],
   "source": [
    "print(\"=> loading checkpoint\")\n",
    "checkpoint = torch.load(checkpoint_path)\n",
    "checkpoint['state_dict'] = remove_module_from_checkpoint_state_dict(\n",
    "                                              checkpoint['state_dict'])\n",
    "model.load_state_dict(checkpoint['state_dict'])\n",
    "print(\"=> loaded checkpoint '{}' (epoch {})\"\n",
    "      .format(checkpoint_path, checkpoint['epoch']))"
   ]
  },
  {
   "cell_type": "markdown",
   "metadata": {},
   "source": [
    "### 4. Load Data"
   ]
  },
  {
   "cell_type": "code",
   "execution_count": 15,
   "metadata": {},
   "outputs": [],
   "source": [
    "transform = Compose([\n",
    "    CenterCrop(84),\n",
    "    ToTensor(),\n",
    "    Normalize(mean=[0.485, 0.456, 0.406],\n",
    "              std=[0.229, 0.224, 0.225])\n",
    "])\n",
    "\n",
    "val_data = VideoFolder(root=config['val_data_folder'],\n",
    "                       csv_file_input=config['val_data_csv'],\n",
    "                       csv_file_labels=config['labels_csv'],\n",
    "                       clip_size=config['clip_size'],\n",
    "                       nclips=1,\n",
    "                       step_size=config['step_size'],\n",
    "                       is_val=True,\n",
    "                       transform=transform,\n",
    "                       )\n",
    "dict_two_way = val_data.classes_dict"
   ]
  },
  {
   "cell_type": "markdown",
   "metadata": {},
   "source": [
    "### 5. Get predictions\n",
    "##### 5.1. Select random sample (or specify the index)"
   ]
  },
  {
   "cell_type": "code",
   "execution_count": 10,
   "metadata": {
    "collapsed": true
   },
   "outputs": [],
   "source": [
    "selected_indx = np.random.randint(len(val_data))\n",
    "# selected_indx = 136"
   ]
  },
  {
   "cell_type": "markdown",
   "metadata": {},
   "source": [
    "### 5.2 Get data in required format"
   ]
  },
  {
   "cell_type": "code",
   "execution_count": 16,
   "metadata": {},
   "outputs": [
    {
     "name": "stdout",
     "output_type": "stream",
     "text": [
      "Id of the video sample = 21281\n",
      "True label --> 16 (Zooming In With Full Hand)\n"
     ]
    }
   ],
   "source": [
    "input_data, target, item_id = val_data[selected_indx]\n",
    "input_data = input_data.unsqueeze(0)\n",
    "print(\"Id of the video sample = {}\".format(item_id))\n",
    "print(\"True label --> {} ({})\".format(target, dict_two_way[target]))"
   ]
  },
  {
   "cell_type": "markdown",
   "metadata": {},
   "source": [
    "### 5.3 Compute output from the model"
   ]
  },
  {
   "cell_type": "code",
   "execution_count": 18,
   "metadata": {},
   "outputs": [],
   "source": [
    "output = model(input_data).squeeze(0)\n",
    "output = torch.nn.functional.softmax(output, dim=0)"
   ]
  },
  {
   "cell_type": "code",
   "execution_count": 19,
   "metadata": {
    "collapsed": true
   },
   "outputs": [],
   "source": [
    "# compute top5 predictions\n",
    "pred_prob, pred_top5 = output.data.topk(5)\n",
    "pred_prob = pred_prob.numpy()\n",
    "pred_top5 = pred_top5.numpy()"
   ]
  },
  {
   "cell_type": "code",
   "execution_count": 20,
   "metadata": {},
   "outputs": [
    {
     "name": "stdout",
     "output_type": "stream",
     "text": [
      "Id of the video sample = 21281\n",
      "True label --> 16 (Zooming In With Full Hand)\n",
      "\n",
      "Top-5 Predictions:\n",
      "Top 1 :== Zooming In With Full Hand. Prob := 100.00%\n",
      "Top 2 :== Zooming Out With Full Hand. Prob := 0.00%\n",
      "Top 3 :== Zooming In With Two Fingers. Prob := 0.00%\n",
      "Top 4 :== Turning Hand Clockwise. Prob := 0.00%\n",
      "Top 5 :== Pushing Hand Away. Prob := 0.00%\n"
     ]
    }
   ],
   "source": [
    "print(\"Id of the video sample = {}\".format(item_id))\n",
    "print(\"True label --> {} ({})\".format(target, dict_two_way[target]))\n",
    "print(\"\\nTop-5 Predictions:\")\n",
    "for i, pred in enumerate(pred_top5):\n",
    "    print(\"Top {} :== {}. Prob := {:.2f}%\".format(i + 1, dict_two_way[pred], pred_prob[i] * 100))"
   ]
  },
  {
   "cell_type": "code",
   "execution_count": 32,
   "metadata": {
    "collapsed": true
   },
   "outputs": [],
   "source": [
    "path_to_jpegs = sorted(glob.glob(os.path.join(config[\"val_data_folder\"], item_id, \"*\")))"
   ]
  },
  {
   "cell_type": "code",
   "execution_count": 78,
   "metadata": {
    "collapsed": true
   },
   "outputs": [],
   "source": [
    "i = 0"
   ]
  },
  {
   "cell_type": "code",
   "execution_count": 107,
   "metadata": {},
   "outputs": [
    {
     "data": {
      "image/png": "[encoded data removed]",
      "text/plain": [
       "<matplotlib.figure.Figure at 0x7fa7007a5080>"
      ]
     },
     "metadata": {},
     "output_type": "display_data"
    }
   ],
   "source": [
    "# execute this cell again-and-again to plot images of the video one after another\n",
    "plt.imshow(plt.imread(path_to_jpegs[i]))\n",
    "i += 1"
   ]
  }
 ],
 "metadata": {
  "kernelspec": {
   "display_name": "Python 3",
   "language": "python",
   "name": "python3"
  },
  "language_info": {
   "codemirror_mode": {
    "name": "ipython",
    "version": 3
   },
   "file_extension": ".py",
   "mimetype": "text/x-python",
   "name": "python",
   "nbconvert_exporter": "python",
   "pygments_lexer": "ipython3",
   "version": "3.6.1"
  }
 },
 "nbformat": 4,
 "nbformat_minor": 2
}
